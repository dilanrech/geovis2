{
 "cells": [
  {
   "cell_type": "markdown",
   "metadata": {
    "slideshow": {
     "slide_type": "slide"
    }
   },
   "source": [
    "# Géovisualisation dynamique et traitement de données\n",
    "\n",
    "Christian Kaiser  \n",
    "Institut de géographie et durabilité, Université de Lausanne\n",
    "\n",
    "__Semaine 1__"
   ]
  },
  {
   "cell_type": "markdown",
   "metadata": {
    "slideshow": {
     "slide_type": "slide"
    }
   },
   "source": [
    "## Programme\n",
    "\n",
    "- Consulter le <strike>site Web</strike> répo Github du cours...: [https://github.com/christiankaiser/geovis2](https://github.com/christiankaiser/geovis2)\n",
    "\n",
    "- Programme peut être adapté en fonction des besoins et intérêts"
   ]
  },
  {
   "cell_type": "markdown",
   "metadata": {
    "slideshow": {
     "slide_type": "slide"
    }
   },
   "source": [
    "## <span style=\"color: #ddd;\">(Anti-)</span>Thèmes du cours\n",
    "\n",
    "- Foncer tête baissée dans la visualisation de données non pertinentes\n",
    "    - Surtout ne pas penser aux différentes variantes et options de visualisation\n",
    "    - Toujours choisir les options par défaut dans Excel\n",
    "    - Essayer dans la mesure du possible de surcharger la carte ou le graphique pour les rendre illisibles"
   ]
  },
  {
   "cell_type": "markdown",
   "metadata": {
    "slideshow": {
     "slide_type": "subslide"
    }
   },
   "source": [
    "- Donner les détails de plein de technologies super avancées que personne ne comprend\n",
    "    - Toujours prendre la dernière technologie lancée par XYZ\n",
    "    - Utiliser uniquement des technologies qui demandent un plug-in que personne n’a installé\n",
    "    - Utiliser uniquement des technologies qui demandent l’achat d’un ordinateur haut de gamme de dernière génération"
   ]
  },
  {
   "cell_type": "markdown",
   "metadata": {
    "slideshow": {
     "slide_type": "subslide"
    }
   },
   "source": [
    "- Faire un site Web\n",
    "    - Devenir Webmaster en 4 mois\n",
    "    - Parler en HTML à ses collègues (<span style=\"color: #aaa;\">ex-</span>amis)\n",
    "    - Convaincre votre grand-maman de s’acheter un Samsung Galaxy 8F écran tactile 3D 17“ avec fonction de streaming GPS pour Facebook intégré, pour consulter votre projet de Géovis"
   ]
  },
  {
   "cell_type": "markdown",
   "metadata": {
    "slideshow": {
     "slide_type": "subslide"
    }
   },
   "source": [
    "- Comment pirater des sites pour utiliser leur contenu pour notre projet de Géovis sans en citer les sources\n",
    "    - Les autres sont déjà des pros dans la technologie XYZ 4.0 en 5D, alors c’est plus simple de prendre leur travail"
   ]
  },
  {
   "cell_type": "markdown",
   "metadata": {
    "slideshow": {
     "slide_type": "slide"
    }
   },
   "source": [
    "## High tech or low tech?\n",
    "\n",
    "- Aperçu de plusieurs technologies utiles dans la géovisualisation\n",
    "    - Connaissance de ce qui existe\n",
    "    - Possibilité d’approfondir si intérêt\n",
    "\n",
    "\n",
    "- Focus: l’humain, l’information, la communication, l’efficacité"
   ]
  },
  {
   "cell_type": "markdown",
   "metadata": {
    "slideshow": {
     "slide_type": "slide"
    }
   },
   "source": [
    "![](figures/eatlas-vs.jpg)\n",
    "\n",
    "*http://www.unil.ch/eatlasvs*"
   ]
  },
  {
   "cell_type": "markdown",
   "metadata": {
    "slideshow": {
     "slide_type": "subslide"
    }
   },
   "source": [
    "![](figures/earthquakes.jpg)\n",
    "\n",
    "*Travail de géovisualisation de Sébastien Rüttimann*"
   ]
  },
  {
   "cell_type": "markdown",
   "metadata": {
    "slideshow": {
     "slide_type": "subslide"
    }
   },
   "source": [
    "![](figures/geoguide-3img.jpg)\n",
    "\n",
    "*Géoguide Lausanne: http://igd.unil.ch/geoguide*"
   ]
  },
  {
   "cell_type": "markdown",
   "metadata": {
    "slideshow": {
     "slide_type": "subslide"
    }
   },
   "source": [
    "![](figures/geod-thonon.jpg)\n",
    "\n",
    "*Mémoire de Pauline Fanguin*"
   ]
  },
  {
   "cell_type": "markdown",
   "metadata": {
    "slideshow": {
     "slide_type": "subslide"
    }
   },
   "source": [
    "![](figures/rechalp.jpg)\n",
    "\n",
    "*http://rechalp.unil.ch*"
   ]
  },
  {
   "cell_type": "markdown",
   "metadata": {
    "slideshow": {
     "slide_type": "subslide"
    }
   },
   "source": [
    "![](figures/gouvernance20.jpg)"
   ]
  },
  {
   "cell_type": "markdown",
   "metadata": {
    "slideshow": {
     "slide_type": "slide"
    }
   },
   "source": [
    "![](figures/dashboard-julien.jpg)\n",
    "\n",
    "Mémoire de Julien Viquerat. Voir aussi: https://www.youtube.com/watch?v=Uci6NIJPymY"
   ]
  },
  {
   "cell_type": "markdown",
   "metadata": {
    "slideshow": {
     "slide_type": "subslide"
    }
   },
   "source": [
    "## Tableau de bord = Dashboard\n",
    "\n",
    "- «A visual display of the most important information needed to achieve one or more objectives which fits entirely on a single computer screen so it can be monitored at a glance». Stephen Few\n",
    "\n",
    "![](figures/few-bookcover.jpg)"
   ]
  },
  {
   "cell_type": "markdown",
   "metadata": {
    "slideshow": {
     "slide_type": "subslide"
    }
   },
   "source": [
    "![](figures/pop-dashboard.jpg)\n",
    "\n",
    "http://www.excelcharts.com/blog/wp-content/uploads/2011/05/dd-lookup-excel-dashboard1.png"
   ]
  },
  {
   "cell_type": "markdown",
   "metadata": {
    "slideshow": {
     "slide_type": "subslide"
    }
   },
   "source": [
    "![](figures/effective-dashboard.jpg)\n",
    "\n",
    "À l'origine du site Web http://www.pieterhendrikx.com/data-visualization-poster-8-tips-for-an-effective-dashboard/  \n",
    "Disponible sur https://raw.githubusercontent.com/christiankaiser/geovis2/master/documents/data-visualization-poster-8-tips-for-an-effective-dashboard.pdf"
   ]
  },
  {
   "cell_type": "markdown",
   "metadata": {
    "slideshow": {
     "slide_type": "slide"
    }
   },
   "source": [
    "## Erreurs de conception\n",
    "\n",
    "- Variété inutile des types de représentation\n",
    "\n",
    "- Design peu réfléchi et peu esthétique\n",
    "    - Adhérez au «Swiss Design»\n",
    "\n",
    "- Encodage incorrect des données (p.ex. échelle sur histogramme)\n",
    "\n",
    "- Organisation des visualisations non réfléchie\n",
    "\n",
    "- Problème de mise en évidence: confuse ou absente\n",
    "\n",
    "- Décoration inutile\n",
    "\n",
    "- Maltraitance de la couleur"
   ]
  },
  {
   "cell_type": "markdown",
   "metadata": {
    "slideshow": {
     "slide_type": "slide"
    }
   },
   "source": [
    "## Exercice\n",
    "\n",
    "- Réflexion de construction  ",
    "d’un tableau de bord"
   ]
  },
  {
   "cell_type": "markdown",
   "metadata": {
    "slideshow": {
     "slide_type": "slide"
    }
   },
   "source": [
    "## Tableau de bord interactif\n",
    "\n",
    "- A travers l’interactivité: possibilité d’exploration de données\n",
    "\n",
    "\n",
    "- Aide à la décision: permet d’avoir une vue globale sur une situation\n",
    "\n",
    "\n",
    "- Réactivité importante:\n",
    "    - < 0.1 seconde: réaction instantanée\n",
    "    - < 1.0 seconde: processus de pensée non interrompu mais retard remarqué\n",
    "    - < 10 secondes: limite absolue pour garder l’attention\n",
    "\n"
   ]
  },
  {
   "cell_type": "markdown",
   "metadata": {
    "slideshow": {
     "slide_type": "slide"
    }
   },
   "source": [
    "## Construction de tableaux de bord\n",
    "\n",
    "- Logiciels spécialisés\n",
    "    - Tableau (http://www.tableausoftware.com); Tableau Public est gratuit\n",
    "    - ESRI Operations Dashboard for ArcGIS  (http://doc.arcgis.com/en/operations-dashboard/)\n",
    "    - http://www.datameer.com   > Analyse de données + visualisation\n"
   ]
  },
  {
   "cell_type": "markdown",
   "metadata": {
    "slideshow": {
     "slide_type": "fragment"
    }
   },
   "source": [
    "- Méthode D\n",
    "    - P.ex. avec SVG, construction de base dans Illustrator possible (Illustrator permet de faire des graphiques)\n",
    "    - Libraires Javascript, p.ex. Google Charts, D3 (d3js.org), Raphaël (raphaeljs.com), …"
   ]
  },
  {
   "cell_type": "markdown",
   "metadata": {
    "slideshow": {
     "slide_type": "slide"
    }
   },
   "source": [
    "![](figures/badac.jpg)"
   ]
  },
  {
   "cell_type": "markdown",
   "metadata": {
    "slideshow": {
     "slide_type": "slide"
    }
   },
   "source": [
    "# Analyse de données pour la visualisation: Pourquoi?\n",
    "\n",
    "- Donner des informations supplémentaires\n",
    "    - P.ex. moyenne, médiane, percentiles\n",
    "    - Comparer une sélection, un groupe, une région avec l’ensemble des entités\n",
    "\n",
    "\n",
    "- Rendre visualisation plus claire\n",
    "    - P.ex. créer groupes ou classes d’entités\n",
    "    - Mettre en évidence entités semblables"
   ]
  },
  {
   "cell_type": "markdown",
   "metadata": {
    "slideshow": {
     "slide_type": "subslide"
    }
   },
   "source": [
    "![](figures/demographie-1850-1880.jpg)"
   ]
  },
  {
   "cell_type": "markdown",
   "metadata": {
    "slideshow": {
     "slide_type": "subslide"
    }
   },
   "source": [
    "![](figures/mailstat.jpg)"
   ]
  },
  {
   "cell_type": "markdown",
   "metadata": {
    "slideshow": {
     "slide_type": "subslide"
    }
   },
   "source": [
    "![](figures/mailstat-commented.jpg)"
   ]
  },
  {
   "cell_type": "markdown",
   "metadata": {
    "slideshow": {
     "slide_type": "subslide"
    }
   },
   "source": [
    "![](figures/eatlas-dashboard-1.jpg)"
   ]
  },
  {
   "cell_type": "markdown",
   "metadata": {
    "slideshow": {
     "slide_type": "subslide"
    }
   },
   "source": [
    "![](figures/eatlas-dashboard-2.jpg)"
   ]
  },
  {
   "cell_type": "markdown",
   "metadata": {
    "slideshow": {
     "slide_type": "subslide"
    }
   },
   "source": [
    "![](figures/eatlas-dashboard-3.jpg)"
   ]
  },
  {
   "cell_type": "markdown",
   "metadata": {
    "slideshow": {
     "slide_type": "slide"
    }
   },
   "source": [
    "![](figures/badac.jpg)"
   ]
  },
  {
   "cell_type": "markdown",
   "metadata": {
    "slideshow": {
     "slide_type": "subslide"
    }
   },
   "source": [
    "## Exemple de projet: BADAC\n",
    "\n",
    "- Cartographie des données statistiques et politiques des villes suisses\n",
    "\n",
    "- Badac: base de données des cantons et villes suisses\n",
    "    - Enquêtes régulières des cantons et villes\n",
    "    - Projet de l’IDHEAP\n",
    "\n",
    "- Actuellement cartes statiques et atlas thématique\n",
    "\n",
    "- Mise en valeur des données des villes"
   ]
  },
  {
   "cell_type": "markdown",
   "metadata": {
    "slideshow": {
     "slide_type": "subslide"
    }
   },
   "source": [
    "## Pourquoi?\n",
    "\n",
    "- Données sont déjà disponibles…\n",
    "\n",
    "- Informer et sensibiliser le grand public sur la situation des villes suisses\n",
    "\n",
    "- Cantons et villes financent les enquêtes et recherches de la Badac\n",
    "    - Il faut montrer ce qui est fait avec le financement\n",
    "    - Visualisation se prête bien à la valorisation de données"
   ]
  },
  {
   "cell_type": "markdown",
   "metadata": {
    "slideshow": {
     "slide_type": "subslide"
    }
   },
   "source": [
    "# Comment?\n",
    "\n",
    "- Visualisation interactive, cartes et graphiques\n",
    "\n",
    "- Données stockées dans une base de données > visualisation dynamique!\n",
    "\n",
    "- Exemples commentés?"
   ]
  },
  {
   "cell_type": "markdown",
   "metadata": {
    "slideshow": {
     "slide_type": "subslide"
    }
   },
   "source": [
    "## Étapes\n",
    "\n",
    "- 1 - Évaluer les possibilités > Analyse exploratoire\n",
    "\n",
    "\n",
    "- 2 - Décrire et schématiser le produit final > Planification conceptuelle\n",
    "    - Réfléchir sur les possibilités de visualisation\n",
    "    - Dessiner, discuter, réfléchir encore\n",
    "    \n",
    "\n",
    "- 3 - Choix des technologies > Planification technique\n",
    "    - Évaluer plusieurs alternatives, choisir la meilleure option\n",
    "    \n",
    "    \n",
    "- 4 - Créer une maquette > Tests de réalisation\n",
    "    - Avoir une première version (non fonctionnelle) aussi vite que possible\n",
    "    - Discuter, réfléchir, modifier, etc.\n",
    "    \n",
    "\n",
    "- 5 - Progressivement implémenter le produit > Réalisation\n",
    "    - Améliorer le prototype progressivement\n",
    "    - Tester, discuter, réfléchir, modifier, etc.\n",
    "    \n",
    "\n",
    "- 6 - Tester, tester, tester! Documenter! > Finalisation"
   ]
  },
  {
   "cell_type": "markdown",
   "metadata": {
    "slideshow": {
     "slide_type": "subslide"
    }
   },
   "source": [
    "## Portrait des villes suisses\n",
    "\n",
    "- Explorer les possibilités,  ",
    "décrire et schématiser le produit final\n",
    "    - Réfléchir sur les possibilités de visualisation\n",
    "    - Dessiner, discuter, réfléchir encore\n",
    "\n",
    "- Quelles données, comment visualiser, comment présenter?\n",
    "    - Prendre connaissance des données de la Badac\n",
    "    - Réfléchir\n",
    "    - Discuter avec vos collègues\n",
    "    - Présentation et discussion des idées"
   ]
  },
  {
   "cell_type": "markdown",
   "metadata": {
    "slideshow": {
     "slide_type": "slide"
    }
   },
   "source": [
    "## Projet: Carte géotouristique du Valais\n",
    "\n",
    "- Vue d'ensemble de l'offre géotouristique du Valais\n",
    "\n",
    "\n",
    "- *«geotourism should be defined as tourism which sustains and enhances the identity of a territory, taking into consideration its geology, environment, culture, aesthetics, heritage and the well-being of its residents. Geological tourism is one of the multiple components of geotourism»* (déclaration d’Arouca, 2011)\n",
    "\n",
    "\n",
    "- Géosites / géomorphosites > patrimoine géologique *in situ*\n",
    "- Géopatrimoine *ex situ* (musées)\n",
    "- autres formes de patrimoine faisant partie de l'identité du canton (bisses, patrimoine archéologique, etc.)\n",
    "\n",
    "\n",
    "- en plus: queqlues infos d'ordre touristique"
   ]
  }
 ],
 "metadata": {
  "celltoolbar": "Slideshow",
  "kernelspec": {
   "display_name": "Python 3",
   "language": "python",
   "name": "python3"
  },
  "language_info": {
   "codemirror_mode": {
    "name": "ipython",
    "version": 3
   },
   "file_extension": ".py",
   "mimetype": "text/x-python",
   "name": "python",
   "nbconvert_exporter": "python",
   "pygments_lexer": "ipython3",
   "version": "3.6.0"
  }
 },
 "nbformat": 4,
 "nbformat_minor": 2
}
