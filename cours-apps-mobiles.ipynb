{
 "cells": [
  {
   "cell_type": "markdown",
   "metadata": {},
   "source": [
    "# Applications mobiles avec HTML et Javascript"
   ]
  },
  {
   "cell_type": "markdown",
   "metadata": {},
   "source": [
    "Le but de cet exercice est de montrer comment créer facilement une application pour appareil mobile (iOS et Android) sur la base de code HTML et Javascript, et spécialement en intégrant Leaflet et la géolocalisation de l'appreil mobile."
   ]
  },
  {
   "cell_type": "markdown",
   "metadata": {
    "heading_collapsed": true
   },
   "source": [
    "## 1. Principe de base"
   ]
  },
  {
   "cell_type": "markdown",
   "metadata": {
    "hidden": true
   },
   "source": [
    "Les applications mobiles pour iOS et Android nécessitent en principe un environnement de développement spécifique. Dans le cas d'iOS, il faut développer les applications avec Xcode (qui ne tourne que sur macOS) et avec le langage Swift respectivement le prédécesseur Objective-C. Dans le cas d'Android, il faut installer le kit de développement ad-hoc et développer les applications en Java.\n",
    "\n",
    "Pour beaucoup d'applications, ces environnements spécifiques ne sont pas nécessaires, et l'investissement dans l'apprentissage de deux environnements est relativement lourd. Du coup, des solutions pour développer des applications en HTML et Javascript ont vu le jour.\n",
    "\n",
    "Le principe est simple. Chaque environnement, iOS et Android, proposent des différentes composantes pour construire l'interface graphique (p.ex. des boutons, images, etc.). Et sur iOS comme sur Android, il y a une composante qui n'est rien d'autre qu'une «vue navigateur Web» (appelée parfois WebView). Cette WebView permet d'afficher du HTML et il est possible d'exécuter du code Javascript. Du coup, il est possible de faire tourner une application HTML/Javascript à l'intérieur d'une de ces WebViews.\n",
    "\n",
    "Cette approche a quelques inconvéniants:\n",
    "\n",
    "- Il faut toujours développer l'application de base en Swift resprectivement Java.\n",
    "- Certaines fonctionnalités qui sont spécifiques à l'appareil mobile doivent être implémentées à part, en Swift ou en Java. Un exemple qui nous concerne spécialement est la géolocalisation. D'autres exemples sont p.ex. l'accès à la caméra de l'appareil mobile, ou encore à la bibliothèque de photos.\n",
    "\n",
    "Pour palier à ces problèmes, des solutions génériques ont été développées, dont la plus connue et populaire est certainement [Apache Cordova](https://cordova.apache.org/). Il s'agit en plus d'une solution open-source et gratuite."
   ]
  },
  {
   "cell_type": "markdown",
   "metadata": {
    "heading_collapsed": true
   },
   "source": [
    "## 2. Installer Cordova"
   ]
  },
  {
   "cell_type": "markdown",
   "metadata": {
    "hidden": true
   },
   "source": [
    "Avant de pouvoir installer Cordova, il faut installer:\n",
    "\n",
    "1. Node.js depuis [nodejs.org](https://nodejs.org). On peut tester si c'est déjà installé en tapant `node -v` dans le Terminal, et il faut aussi tester si NPM est installé avec `npm -v`. En prinicpe, NPM vient avec Node.js. Assurez-vous que vous avez une version à peu près à jour.\n",
    "\n",
    "2. L'environnement de développement mobile (SDK) de votre choix (Xcode pour iOS depuis l'AppStore, ou [Android Studio](https://developer.android.com/studio/index.html)).\n",
    "\n",
    "Chaque SDK (Software Development Kit) vient avec un émulateur d'appareil mobile qui permet de faire tourner votre application mobile sur l'ordinateur. Tandis que l'émulateur iOS est très bien fait et très réactif, celui d'Android laisse souvent à désirer par sa lenteur.\n",
    "\n",
    "Une fois que tout est installé, il suffit de taper la commande suivante dans le Terminal pour installer Cordova:\n",
    "\n",
    "```bash\n",
    "sudo npm install -g cordova\n",
    "```\n",
    "\n",
    "ou sur Windows:\n",
    "\n",
    "```bash\n",
    "npm install -g cordova\n",
    "```\n",
    "\n",
    "Une fois que c'est fait, on doit en principe pouvoir exécuter la commande\n",
    "\n",
    "```bash\n",
    "cordova\n",
    "```\n",
    "\n",
    "dans le Terminal (cette commande affiche juste un petit texte d'aide)."
   ]
  },
  {
   "cell_type": "markdown",
   "metadata": {
    "heading_collapsed": true
   },
   "source": [
    "## 3. Créer une appliation Cordova"
   ]
  },
  {
   "cell_type": "markdown",
   "metadata": {
    "hidden": true
   },
   "source": [
    "Cordova permet de créer une application multi-plateformes de la manière suivante:\n",
    "\n",
    "```bash\n",
    "cordova create <nom-du-dossier> <id-application> <nom-application>\n",
    "```\n",
    "\n",
    "donc p.ex. quelques chose comme:\n",
    "\n",
    "```bash\n",
    "cordova create geovis2-mobile-app ch.unil.geovis GeovisUNIL\n",
    "```\n",
    "\n",
    "`ch.unil.geovis-app` est un identifiant typique d'une application mobile, avec une sorte de nom de domaine inversé, mais qui n'a pas de lien direct avec le domaine.\n",
    "\n",
    "Cette commande crée la structure de base d'une application HTML/JS mobile:\n",
    "\n",
    "![](figures/cordova-folder-structure.png)\n",
    "\n",
    "Le dossier `platforms` contient les applications spécifiques pour chacune des plateformes (iOS, Android, mais en principe aussi Blackberry et Windows Mobile). Pour l'instant ce dossier est vide car nous n'avons pas encore déclaré sur quelles plateformes notre application devra tourner.\n",
    "\n",
    "Le dossier `www` contient l'application HTML et Javascript. C'est là où la plus grande partie du travail ira.\n",
    "\n",
    "Par défaut, le dossier `www` contient une application HTML très simple. Cette application a quelques particularités:\n",
    "\n",
    "- Le fichier `index.html` contient une référence vers un fichier JS `cordova.js` qui n'existe pas. Ce fichier JS sera en effet rajouté plus tard au moment où on construit l'application mobile native.\n",
    "\n",
    "- Le fichier `index.html` contient également une série de balises `meta` qui sont spécifiques à une application mobile.\n",
    "\n",
    "- Le fichier `js/index.js` contient un script de lancement qui détecte si l'application est prête à fonctionner. Dans le cas le plus simple, nous pouvons ignorer ce code. Si on veut par contre recevoir des événements spécifiques de l'appareil mobile, nous devons utiliser ce mécanisme selon la documentation de Cordova.\n",
    "\n",
    "En dehors de ces quelques contraintes, nous sommes complètement libres à construire l'application HTML que nous voulons et de la mettre dans le dossier `www`."
   ]
  },
  {
   "cell_type": "markdown",
   "metadata": {},
   "source": [
    "## 4. Une application HTML avec jQuery Mobile"
   ]
  },
  {
   "cell_type": "markdown",
   "metadata": {},
   "source": [
    "En principe, on n'a besoin de rien d'autre pour faire une application HTML mobile. Mais les applications mobiles ont une interface graphique avec des éléments typiques et faciles à reconnaître. C'est relativement fastidieux de construire tous ces éléments graphiques en HTML et Javascript sans librairie supplémentaire. Pour cette raison, plusieurs librairies Javscript ont vu le jour, dont une qui est [jQuery Mobile](http://jquerymobile.com/) (qui ne remplace pas jQuery, mais au contraire qui est construite sur jQuery). Ainsi, il devient relativement facile à construire une application mobile avec des éléments typiques, plusieurs pages, etc.\n",
    "\n",
    "L'idée de base de jQuery Mobile est que toute l'application est contenue dans un seul fichier HTML (typiquement `index.html`), même si l'application possède en principe plusieurs pages.\n",
    "\n",
    "Le répo Git [geovis-leaflet-jquery-mobile](https://github.com/christiankaiser/geovis-leaflet-jquery-mobile) contient une application simple avec deux pages, et une carte Leaflet sur la deuxième page. [Voici l'aperçu de l'application.](https://cdn.rawgit.com/christiankaiser/geovis-leaflet-jquery-mobile/3b352a50014fb9f8bee9255e974a69dc2cd9aad2/index.html) Cette application n'est pas adaptée à Cordova, il s'agit d'une application HTML standard qui utilise la géolocalisation et l'affiche sur la carte."
   ]
  },
  {
   "cell_type": "markdown",
   "metadata": {},
   "source": [
    "## 5. Application mobile pour une plateforme"
   ]
  },
  {
   "cell_type": "markdown",
   "metadata": {},
   "source": [
    "Nous allons maintenant adapter l'application jQuery Mobile pour la transformer en application mobile native. La première chose à faire est d'activer une ou plusieurs plateformes dans notre application Cordova:\n",
    "\n",
    "```bash\n",
    "cd <dossier-de-notre-application-cordova>\n",
    "cordova platform add ios\n",
    "```\n",
    "\n",
    "pour une application iOS. Utiliser `cordova platform add android` pour une application Android.\n",
    "\n",
    "On peut lister les plateformes activées:\n",
    "\n",
    "```bash\n",
    "cordova platform ls\n",
    "```\n"
   ]
  },
  {
   "cell_type": "markdown",
   "metadata": {},
   "source": [
    "## 6. Adapter l'application jQuery Mobile pour Cordova"
   ]
  },
  {
   "cell_type": "markdown",
   "metadata": {},
   "source": [
    "Nous pouvons maintenant insérer notre application jQuery Mobile dans le dossier `www`, et adapter légèrement notre application JS.\n",
    "\n",
    "Les modifications à apporter sont presque anéctodiques:\n",
    "\n",
    "- ajouter `cordova.js`\n",
    "- modifier l'initialisation de l'application pour attendre l'événement `onDeviceReady` qui est lancé par Cordova une fois que l'application mobile est prête\n",
    "\n",
    "[Visualiser les modifications sur Github...](https://github.com/christiankaiser/geovis-cordova-app/commit/a7ccc6b5897a45f562b6c8aa622ca0961b646773)"
   ]
  },
  {
   "cell_type": "markdown",
   "metadata": {},
   "source": [
    "## 7. Compiler et faire tourner l'application"
   ]
  },
  {
   "cell_type": "markdown",
   "metadata": {},
   "source": [
    "Finalement, nous pouvons compiler l'application avec:\n",
    "\n",
    "```bash\n",
    "cordova build\n",
    "```\n",
    "\n",
    "et la faire tourner avec\n",
    "\n",
    "```bash\n",
    "cordova run ios\n",
    "```\n",
    "\n",
    "(respectivement `cordova run android`). Ceci lance l'émulateur mobile et charge l'application dans l'émulateur.\n",
    "\n",
    "Si vous branchez votre appareil mobile sur l'ordinateur, vous pouvez faire tourner l'application sur votre téléphone. Avec iOS, il faut créer un «provisioning profile», qui demande un compte développement iOS (payant évidemment...).\n",
    "\n",
    "La commande `cordova build` a par ailleurs créé un projet Xcode ou Android Studio. Pour une application iOS, il est possible d'ouvrir le projet Xcode et de charger l'application dans l'AppStore d'Apple (à condition d'avoir un compte développement et des certificats d'authenticité de l'application, le premier payant, le deuxième juste un peu compliqué à créer). Accessoirement, il faudra encore créer quelques icônes et écrans de démarrage. Mais sur le principe, tout est là..."
   ]
  },
  {
   "cell_type": "markdown",
   "metadata": {},
   "source": [
    "## 8. Zut, on a oublié d'activer la géolocalisation..."
   ]
  },
  {
   "cell_type": "markdown",
   "metadata": {},
   "source": [
    "Tout d'abord on ne voit pas que la géolocalisation ne fonctionne pas dans l'application mobile. En effet, il faut installer un plugin Cordova qui l'active. Les applications mobiles activent uniquement ce qui est strictement nécessaire, pour économiser la batterie, et pour des raisons de protection de la vie privée.\n",
    "\n",
    "Les plugins Cordova disponibles peuvent être visualisés sur la page [cordova.apache.org/plugins](https://cordova.apache.org/plugins/).\n",
    "\n",
    "Pour installer un plugin:\n",
    "\n",
    "```bash\n",
    "cordova plugin add cordova-plugin-geolocation\n",
    "```\n",
    "\n",
    "Il est important de bien lire la page du plugin pour connaitre des éventuelles limites dans l'utilisation du plugin. Ainsi, le plugin de géolocalisation nécessite d'ajouter le contenu suivant dans le fichier `config.xml` pour tourner correctement sur iOS:\n",
    "\n",
    "```xml\n",
    "<edit-config file=\"*-Info.plist\" mode=\"merge\" target=\"NSLocationWhenInUseUsageDescription\">\n",
    "    <string>Need location access to show your position on the map.</string>\n",
    "</edit-config>\n",
    "```\n",
    "\n",
    "Pour visualiser les plugins actuellement installés:\n",
    "\n",
    "```bash\n",
    "cordova plugin ls\n",
    "```\n",
    "\n",
    "Il est nécessaire de faire un `cordova build` par la suite."
   ]
  },
  {
   "cell_type": "markdown",
   "metadata": {},
   "source": [
    "## Alternatives à Cordova et jQuery Mobile"
   ]
  },
  {
   "cell_type": "markdown",
   "metadata": {},
   "source": [
    "Cordova avec jQuery Mobile n'est évidemment pas la seule possibilité pour créer une application mobile avec HTML et Javascript.\n",
    "\n",
    "Parmi les alternatives, j'aimerais mentionner deux possibilités qui sont très intéressantes:\n",
    "\n",
    "1. **React Native**. ReactJS est une libraire Javascript développée par Facebook pour sites Web qui permet de construire des applications modernes de manière relativement simple. ReactJS est basée sur des composantes qui peuvent interagir entre elles. React Native est l'équivalent de ReactJS pour appareils mobiles. React est devenu très populaire, et React Native permet de créer des applications très performantes avec quasiment le même code que ReactJS. Une solution très intéressante pour ceux qui aimeraient aller plus loin dans le développement Web et mobile!\n",
    "\n",
    "2. **Meteor**. Meteor est un environnement serveur-client, avec une base de données Meteor intégrée. Les applications sont développées en Javascript et peuvent être des applications Web normales, ou des applications mobiles. Solution également très intéressante, mais moins populaire que React."
   ]
  }
 ],
 "metadata": {
  "kernel_info": {
   "name": "python3"
  },
  "kernelspec": {
   "display_name": "Python 3",
   "language": "python",
   "name": "python3"
  },
  "language_info": {
   "codemirror_mode": {
    "name": "ipython",
    "version": 3
   },
   "file_extension": ".py",
   "mimetype": "text/x-python",
   "name": "python",
   "nbconvert_exporter": "python",
   "pygments_lexer": "ipython3",
   "version": "3.6.0"
  },
  "latex_envs": {
   "LaTeX_envs_menu_present": true,
   "bibliofile": "biblio.bib",
   "cite_by": "apalike",
   "current_citInitial": 1,
   "eqLabelWithNumbers": true,
   "eqNumInitial": 1,
   "labels_anchors": false,
   "latex_user_defs": false,
   "report_style_numbering": false,
   "user_envs_cfg": false
  }
 },
 "nbformat": 4,
 "nbformat_minor": 0
}
