{
 "cells": [
  {
   "cell_type": "markdown",
   "metadata": {},
   "source": [
    "# Exercice d'introduction à PostGIS\n",
    "\n",
    "PostGIS est une extension SIG pour PostgreSQL, une puissante base de données relationnelle. Dans cet exercice, nous allons apprendre les choses suivantes:\n",
    "\n",
    "1. Installation de PostgreSQL et PostGIS.\n",
    "- Interaction avec PostgreSQL en mode ligne de commande.\n",
    "- Installation d'une interface graphique pour PostgreSQL (pgAdmin III, PSequel).\n",
    "- Création d'une base de données PostGIS.\n",
    "- Chargement d'un fichier Shape dans PostGIS. Nous allons charger les communes suisses ainsi que les toponymes de la carte nationale au 1:200'000.\n",
    "- Interrogation de la base de données en SQL.\n",
    "- Création d'une nouvelle couche des cantons suisses, à partir de la couche des communes.\n",
    "- Utilisation de PostGIS avec QGIS.\n",
    "- Chargement d'un fichier CSV (avec des données statistiques sur les cantons suisses).\n",
    "- Jointure des données du fichier CSV avec la couche des cantons.\n",
    "- Calcul du nombre de montagnes par canton, et ajout à la table des données des cantons.\n",
    "\n",
    "Cet exercice est optimisé pour un environnement Linux, mais il peut être utilisé de manière presque inchangé pour Mac OS X et Windows.\n",
    "\n",
    "Les données utilisées pour l'exercice sont disponibles sur [github.com/interactivethings/swiss-maps](https://github.com/interactivethings/swiss-maps).\n"
   ]
  },
  {
   "cell_type": "markdown",
   "metadata": {},
   "source": [
    "## Installation de PostgreSQL et PostGIS\n",
    "\n",
    "Sur les ordinateurs de Géopolis, il y a une machine virtuelle Ubuntu 14.04LTS qui donne un accès administrateur à l'ensemble du système. PostGIS y est déjà installé. Pour démarrer la machine virtuelle, il faut lancer d'abord VirtualBox, et puis démarrer la machine virtuelle Ubuntu.\n",
    "\n",
    "Le [site Web de PostGIS](http://postgis.net/install/) donne des instructions détaillées pour l'ensemble des plateformes. Nous conseillons ici une piste possible parmi d'autres pour l'installation.\n",
    "\n",
    "### Linux (Ubuntu, Debian)\n",
    "\n",
    "Linux possède un installateur de logiciels déjà intégré. L'installation peut être faite avec les commandes suivantes (`sudo` permet d'exécuter la commande suivante en mode admin aussi appelé `root`):\n",
    "\n",
    "    sudo apt-get update\n",
    "    sudo apt-get install postgresql-9.3 postgis postgresql-9.3.-postgis-2.1 postgresql-9.3-postgis-scripts\n",
    "\n",
    "Attention: la version de PostgreSQL (9.3 ici) ou de PostGIS (2.1 ici) peut évidemment évoluer. Avec la commande `apt-cache search postgresql | grep postgis` on peut lister quelle est la version actuelle des paquets.\n",
    "\n",
    "\n",
    "### Mac OS X\n",
    "\n",
    "Sur OS X, il y a la possibilité d'installer [Postgres.app](http://postgresapp.com/).\n",
    "\n",
    "Une autre solution, un peu semblable à la version Linux, est d'utiliser [Homebrew](http://brew.sh/). Homebrew est un installateur de logiciels Unix pour OSX. Il faut donc d'abord installer Homebrew (suivre les instructions sur le site).\n",
    "\n",
    "Il faudra également installer XCode (disponible dans l'AppStore).\n",
    "\n",
    "Une fois Homebrew installé, il suffit de passer les commandes suivantes:\n",
    "\n",
    "    brew update\n",
    "    brew install postgresql postgis\n",
    "\n",
    "\n",
    "### Windows\n",
    "\n",
    "...\n",
    "    "
   ]
  }
 ],
 "metadata": {
  "kernelspec": {
   "display_name": "Python 2",
   "language": "python",
   "name": "python2"
  },
  "language_info": {
   "codemirror_mode": {
    "name": "ipython",
    "version": 2
   },
   "file_extension": ".py",
   "mimetype": "text/x-python",
   "name": "python",
   "nbconvert_exporter": "python",
   "pygments_lexer": "ipython2",
   "version": "2.7.9"
  }
 },
 "nbformat": 4,
 "nbformat_minor": 0
}
