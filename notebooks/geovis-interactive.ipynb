{
 "cells": [
  {
   "cell_type": "markdown",
   "metadata": {},
   "source": [
    "# Géovisualisation interactive\n",
    "\n",
    "La visualisation interactive d'informations se répand de plus en plus. En conséquence, les possibilités pour créer ces visualisations sont de plus en plus nombreueses. Avec la popularité croissante, le nombre de solutions proposées augmente aussi. En effet, il y a tellement de librairies et autres solutions, parfois avec interface graphique et parfois à utiliser en programmation, qu'il est à peu près impossible de tout connaître voire de tout maîtriser.\n",
    "\n",
    "Ce document recense quelques-unes de ces possibilités, sans avoir la prétention d'être exhaustif. Il est certes important d'avoir un aperçu très général sur les solutions principales. Mais il est tout aussi important de se concentrer sur l'une ou l'autre de ces solutions qu'il s'agit de maîtriser au moins dans les grandes lignes. Et il est important aussi de ne pas se laisser tenter de changer d'outil tous les x mois voire semaines. Vous allez rencontrer souvent des personnes qui disent quelque chose comme *\"tu connais ce truc, c'est super, beaucoup plus simple que tout le reste, faut essayer absolument\"*. La seule chose à faire c'est dire *\"oh oui, en effet, c'est super\"* et continuer votre chemin comme avant. Si vous avez rencontrez 20 personnes qui ont dit la même chose à propos de la même technologie et que vous commencez à la voir partout, c'est le moment d'y jeter un coup d'oeil avant de retourner sur ce que vous connaissez le mieux.\n",
    "\n",
    "En conséquence, nous allons nous concentrer par la suite sur un nombre très limité d'outils, outils que nous savons qu'ils sont performants et qui vont certainement durer dans le temps. On a vu trop de solutions et outils \"géniaux\" voir le jour et disparaître tout aussi vite...\n",
    "\n",
    "Étant donné que nous allons viser la géovisualisation interactive, nous allons à priori nous limiter sur les solutions qui peuvent facilement être intégrées dans un site Web, c'est-à-dire qui utilise en grande majorité les technologies du Web (HTML, CSS, Javascript et aussi le SVG).\n"
   ]
  },
  {
   "cell_type": "markdown",
   "metadata": {},
   "source": [
    "## 1. Les outils incontournables\n",
    "\n",
    "Il y a quelques outils que nous allons rencontrer à peu près partout en géovisualisation interactive. Leur nombre est étonnement petit:\n",
    "\n",
    "- [**SVG**](http://www.w3.org/Graphics/SVG/) est un langage similaire à HTML, mais qui permet de créer des graphiques vectoriels. Un document SVG peut être visualisé dans tous les navigateurs Web modernes. Il peut être manipulé avec du Javascript tout comme un document HTML. Par ailleurs, un document HTML peut être intégré dans un document HTML. Voici un exemple (très) simple (ignorer l'instruction `%%html` sur la première ligne qui permet simplement d'insérer du code HTML à l'intérieur de ce document):"
   ]
  },
  {
   "cell_type": "code",
   "execution_count": 7,
   "metadata": {
    "collapsed": false
   },
   "outputs": [
    {
     "data": {
      "text/html": [
       "<html>\n",
       "<head>\n",
       "    <title>Exemple SVG dans HTML</title>\n",
       "</head>\n",
       "<body>\n",
       "    <h1>Exemple SVG dans HTML</h1>\n",
       "    <svg width=\"500\" height=\"400\">\n",
       "        <circle cx=\"250\" cy=\"200\" r=\"200\" style=\"fill: #900;\"/>\n",
       "        <rect x=\"250\" y=\"200\" width=\"250\" height=\"200\" style=\"fill: #009;\"/>\n",
       "    </svg>\n",
       "</body>\n",
       "</html>"
      ],
      "text/plain": [
       "<IPython.core.display.HTML object>"
      ]
     },
     "metadata": {},
     "output_type": "display_data"
    }
   ],
   "source": [
    "%%html\n",
    "<html>\n",
    "<head>\n",
    "    <title>Exemple SVG dans HTML</title>\n",
    "</head>\n",
    "<body>\n",
    "    <h1>Exemple SVG dans HTML</h1>\n",
    "    <svg width=\"500\" height=\"400\">\n",
    "        <circle cx=\"250\" cy=\"200\" r=\"200\" style=\"fill: #900;\"/>\n",
    "        <rect x=\"250\" y=\"200\" width=\"250\" height=\"200\" style=\"fill: #009;\"/>\n",
    "    </svg>\n",
    "</body>\n",
    "</html>"
   ]
  },
  {
   "cell_type": "markdown",
   "metadata": {},
   "source": [
    "- **Javascript** est le langage de programmation qui peut être exécuté par le navigateur Web pour manipuler les documents HTML et SVG, et ainsi créer l'interactivité.\n",
    "\n",
    "    D'autres langages similaires existent, comme par exemple [CoffeeScript](http://coffeescript.org/). Ces langages seront traduits (compilés) en Javascript avant d'arriver dans le navigateur Web, et sont à ce titre strictement équivalents. Il s'agit essentiellement de la préférence de l'utilisateur quel langage il choisira.\n",
    "    \n",
    "    Le Javascript n'est généralement pas utilisé sans librairie externe, notamment pour la manipulation du [DOM](https://www.w3.org/DOM/) (p.ex. [jQuery](http://jquery.com/), mais aussi [d3](https://d3js.org/) qui sera présenté plus loin). Le DOM est simplement l'hiérarchie des différents éléments (*\"tags\"*) d'un document HTML ou SVG. Nous allons présenter le DOM plus en détail un peu plus loin.\n",
    "\n",
    "\n",
    "- [**Leaflet**](http://leafletjs.com/) est la librairie la plus répandue pour la cartographie interactive.\n",
    "\n",
    "\n",
    "- [**d3**](http://d3js.org), ou «Data-Driven Documents» est devenu au courant de ces dernières années le quasi-standard quand il s'agit de créer des visualisations interactives. Il s'agit d'une librairie Javascript créée par [Mike Bostock](https://bost.ocks.org/mike/) pour *«manipuler des documents sur la base de données»*. Le plus étonnant dans ce constat est que d3 n'est pas une libraire de visualisation! Par contre, d3 est une librairie qui facilite la création de visualisations. Du coup, d3 ne se limite pas à un type de visualisation et peut être utilisé à la fois pour des graphiques ou des cartes.\n",
    "\n",
    "    d3 travaille en concert avec la structure d'un document HTML et/ou SVG (le DOM). . d3 peut associer une donnée à chaque élément de cette structure (un élément correspond dans la pratique à un tag, p.ex. un `DIV`), et de transformer l'élément à l'aide d'une fonction Javascript. Ce méchanisme qui semble à prime abord très rudimentaire permet en effet de créer une grande variété de visualisations de manière relativement simple.\n",
    "    \n",
    "    d3 n'est pas très simple à apprendre. Par contre, une fois que le fonctionnement de base est compris, nous aurons un outils puissant et polyvalent. L'utilisation d'autres librairies \"plus simples\" sera autant plus facile."
   ]
  },
  {
   "cell_type": "markdown",
   "metadata": {},
   "source": [
    "## 2. Livres et tutoriels\n",
    "\n",
    "De nombreux excellents livres et tutoriels existent pour la visualisation interactive sur le Web. Souvent, la cartographie est traitée un peu à la marge et pas très en profondeur, ce qui n'est pas grave étant donné que les bases sont tout à fait les mêmes. Voici une liste non exhaustive:\n",
    "\n",
    "- Dewar, M. (2012). *Getting Started with D3.* O'Reilly. ISBN 978-1-449-32879-5. [*Voir sur it-ebooks*](http://it-ebooks.info/book/835/)\n",
    "\n",
    "\n",
    "- Murray, S. (2013). *Interactive Data Visualization for the Web: An Introduction to Designing with D3*. O'Reilly. [http://chimera.labs.oreilly.com/books/1230000000345/](http://chimera.labs.oreilly.com/books/1230000000345/)\n",
    "\n",
    "\n",
    "- Newton, T. et Villarreal, O. (2014). *Learning D3.js mapping: build stunning maps and visualizations using D3.js.* Packt Publishing. ISBN 978-1-78398-560-9. [*Voir sur it-ebooks*](http://it-ebooks.info/book/4768/)\n",
    "\n",
    "\n",
    "- Thomas, S.A. (2015). *Data visualization with Javascript.* No Starch Press. ISBN 978-1-59327-605-8. [*Voir sur it-ebboks*](http://it-ebooks.info/book/6010/)  \n",
    "    *Ce livre traite entre autre Leaflet et Javascript dans la deuxième partie.*\n",
    "\n",
    "\n",
    "- Meeks, E. (2015). *D3.js in action.* Manning. ISBN 978-1-617-29211-8. [*Voir sur it-ebooks*](http://it-ebooks.info/book/6403/)\n",
    "\n",
    "\n",
    "Pour les tutoriels, voir sur le site de d3: [https://github.com/mbostock/d3/wiki/Tutorials](https://github.com/mbostock/d3/wiki/Tutorials).\n",
    "\n",
    "Il y a aussi un cours en ligne sur Udacity ([Data Visualization and D3.js](Communicating with Data)) qui s'inscrit dans leur cursus d'analyste de données.\n"
   ]
  },
  {
   "cell_type": "markdown",
   "metadata": {},
   "source": [
    "## 3. Quelques autres outils\n",
    "\n",
    "### 3.1 Cartographie interactive\n",
    "\n",
    "- Google Maps API\n",
    "\n",
    "- OpenLayers\n",
    "\n",
    "\n",
    "### 3.2 Graphiques interactives\n",
    "\n",
    "- Google Charts\n",
    "\n",
    "- [**Chart.js**](http://chartjs.org)\n",
    "\n",
    "- Dimble\n",
    "\n",
    "- HighCharts\n",
    "\n",
    "- [**Vega**](http://vega.github.io)\n",
    "\n"
   ]
  },
  {
   "cell_type": "markdown",
   "metadata": {},
   "source": [
    "## 4. Introduction au SVG\n",
    "\n",
    "..."
   ]
  },
  {
   "cell_type": "markdown",
   "metadata": {},
   "source": [
    "## 5. Introduction à d3\n",
    "\n",
    "..."
   ]
  },
  {
   "cell_type": "markdown",
   "metadata": {},
   "source": [
    "## 6. Cartographie avec d3\n",
    "\n",
    "...\n",
    "\n",
    "### TopoJSON\n",
    "..."
   ]
  }
 ],
 "metadata": {
  "kernelspec": {
   "display_name": "Python 2",
   "language": "python",
   "name": "python2"
  },
  "language_info": {
   "codemirror_mode": {
    "name": "ipython",
    "version": 2
   },
   "file_extension": ".py",
   "mimetype": "text/x-python",
   "name": "python",
   "nbconvert_exporter": "python",
   "pygments_lexer": "ipython2",
   "version": "2.7.9"
  }
 },
 "nbformat": 4,
 "nbformat_minor": 0
}
