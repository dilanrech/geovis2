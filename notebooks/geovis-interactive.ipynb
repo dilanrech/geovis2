{
 "cells": [
  {
   "cell_type": "markdown",
   "metadata": {},
   "source": [
    "# Géovisualisation interactive\n",
    "\n",
    "La visualisation interactive d'informations se répand de plus en plus. En conséquence, les possibilités pour créer ces visualisations sont de plus en plus nombreueses. Avec la popularité croissante, le nombre de solutions proposées augmente aussi. En effet, il y a tellement de librairies et autres solutions, parfois avec interface graphique et parfois à utiliser en programmation, qu'il est à peu près impossible de tout connaître voire de tout maîtriser.\n",
    "\n",
    "Ce document recense quelques-unes de ces possibilités, sans avoir la prétention d'être exhaustif. Il est certes important d'avoir un aperçu très général sur les solutions principales. Mais il est tout aussi important de se concentrer sur l'une ou l'autre de ces solutions qu'il s'agit de maîtriser au moins dans les grandes lignes. Et il est important aussi de ne pas se laisser tenter de changer d'outil tous les x mois voire semaines. Vous allez rencontrer souvent des personnes qui disent quelque chose comme *\"tu connais ce truc, c'est super, beaucoup plus simple que tout le reste, faut essayer absolument\"*. La seule chose à faire c'est dire *\"oh oui, en effet, c'est super\"* et continuer votre chemin comme avant. Si vous avez rencontrez 20 personnes qui ont dit la même chose à propos de la même technologie et que vous commencez à la voir partout, c'est le moment d'y jeter un coup d'oeil avant de retourner sur ce que vous connaissez le mieux.\n",
    "\n",
    "En conséquence, nous allons nous concentrer par la suite sur un nombre très limité d'outils, outils que nous savons qu'ils sont performants et qui vont certainement durer dans le temps. On a vu trop de solutions et outils \"géniaux\" voir le jour et disparaître tout aussi vite...\n",
    "\n",
    "Étant donné que nous allons viser la géovisualisation interactive, nous allons à priori nous limiter sur les solutions qui peuvent facilement être intégrées dans un site Web, c'est-à-dire qui utilise en grande majorité les technologies du Web (HTML, CSS, Javascript et aussi le SVG).\n"
   ]
  },
  {
   "cell_type": "markdown",
   "metadata": {},
   "source": [
    "## 1. Les outils incontournables\n",
    "\n",
    "Il y a quelques outils que nous allons rencontrer à peu près partout en géovisualisation interactive. Leur nombre est étonnement petit:\n",
    "\n",
    "- [**SVG**](http://www.w3.org/Graphics/SVG/) est un langage similaire à HTML, mais qui permet de créer des graphiques vectoriels. Un document SVG peut être visualisé dans tous les navigateurs Web modernes. Il peut être manipulé avec du Javascript tout comme un document HTML. Par ailleurs, un document HTML peut être intégré dans un document HTML. Voici un exemple (très) simple (ignorer l'instruction `%%html` sur la première ligne qui permet simplement d'insérer du code HTML à l'intérieur de ce document):"
   ]
  },
  {
   "cell_type": "code",
   "execution_count": 7,
   "metadata": {
    "collapsed": false
   },
   "outputs": [
    {
     "data": {
      "text/html": [
       "<html>\n",
       "<head>\n",
       "    <title>Exemple SVG dans HTML</title>\n",
       "</head>\n",
       "<body>\n",
       "    <h1>Exemple SVG dans HTML</h1>\n",
       "    <svg width=\"500\" height=\"400\">\n",
       "        <circle cx=\"250\" cy=\"200\" r=\"200\" style=\"fill: #900;\"/>\n",
       "        <rect x=\"250\" y=\"200\" width=\"250\" height=\"200\" style=\"fill: #009;\"/>\n",
       "    </svg>\n",
       "</body>\n",
       "</html>"
      ],
      "text/plain": [
       "<IPython.core.display.HTML object>"
      ]
     },
     "metadata": {},
     "output_type": "display_data"
    }
   ],
   "source": [
    "%%html\n",
    "<html>\n",
    "<head>\n",
    "    <title>Exemple SVG dans HTML</title>\n",
    "</head>\n",
    "<body>\n",
    "    <h1>Exemple SVG dans HTML</h1>\n",
    "    <svg width=\"500\" height=\"400\">\n",
    "        <circle cx=\"250\" cy=\"200\" r=\"200\" style=\"fill: #900;\"/>\n",
    "        <rect x=\"250\" y=\"200\" width=\"250\" height=\"200\" style=\"fill: #009;\"/>\n",
    "    </svg>\n",
    "</body>\n",
    "</html>"
   ]
  },
  {
   "cell_type": "markdown",
   "metadata": {},
   "source": [
    "- **Javascript** est le langage de programmation qui peut être exécuté par le navigateur Web pour manipuler les documents HTML et SVG, et ainsi créer l'interactivité.\n",
    "\n",
    "    D'autres langages similaires existent, comme par exemple [CoffeeScript](http://coffeescript.org/). Ces langages seront traduits (compilés) en Javascript avant d'arriver dans le navigateur Web, et sont à ce titre strictement équivalents. Il s'agit essentiellement de la préférence de l'utilisateur quel langage il choisira.\n",
    "    \n",
    "    Le Javascript n'est généralement pas utilisé sans librairie externe, notamment pour la manipulation du [DOM](https://www.w3.org/DOM/) (p.ex. [jQuery](http://jquery.com/), mais aussi [d3](https://d3js.org/) qui sera présenté plus loin). Le DOM est simplement l'hiérarchie des différents éléments (*\"tags\"*) d'un document HTML ou SVG. Nous allons présenter le DOM plus en détail un peu plus loin.\n",
    "\n",
    "\n",
    "- [**Leaflet**](http://leafletjs.com/) est la librairie la plus répandue pour la cartographie interactive.\n",
    "\n",
    "\n",
    "- [**d3**](http://d3js.org), ou «Data-Driven Documents» est devenu au courant de ces dernières années le quasi-standard quand il s'agit de créer des visualisations interactives. Il s'agit d'une librairie Javascript créée par [Mike Bostock](https://bost.ocks.org/mike/) pour *«manipuler des documents sur la base de données»*. Le plus étonnant dans ce constat est que d3 n'est pas une libraire de visualisation! Par contre, d3 est une librairie qui facilite la création de visualisations. Du coup, d3 ne se limite pas à un type de visualisation et peut être utilisé à la fois pour des graphiques ou des cartes.\n",
    "\n",
    "    d3 travaille en concert avec la structure d'un document HTML et/ou SVG (le DOM). . d3 peut associer une donnée à chaque élément de cette structure (un élément correspond dans la pratique à un tag, p.ex. un `DIV`), et de transformer l'élément à l'aide d'une fonction Javascript. Ce méchanisme qui semble à prime abord très rudimentaire permet en effet de créer une grande variété de visualisations de manière relativement simple.\n",
    "    \n",
    "    d3 n'est pas très simple à apprendre. Par contre, une fois que le fonctionnement de base est compris, nous aurons un outils puissant et polyvalent. L'utilisation d'autres librairies \"plus simples\" sera autant plus facile."
   ]
  },
  {
   "cell_type": "markdown",
   "metadata": {},
   "source": [
    "## 2. Livres et tutoriels\n",
    "\n",
    "De nombreux excellents livres et tutoriels existent pour la visualisation interactive sur le Web. Souvent, la cartographie est traitée un peu à la marge et pas très en profondeur, ce qui n'est pas grave étant donné que les bases sont tout à fait les mêmes. Voici une liste non exhaustive:\n",
    "\n",
    "- Dewar, M. (2012). *Getting Started with D3.* O'Reilly. ISBN 978-1-449-32879-5. [*Voir sur it-ebooks*](http://it-ebooks.info/book/835/)\n",
    "\n",
    "\n",
    "- Murray, S. (2013). *Interactive Data Visualization for the Web: An Introduction to Designing with D3*. O'Reilly. [http://chimera.labs.oreilly.com/books/1230000000345/](http://chimera.labs.oreilly.com/books/1230000000345/)\n",
    "\n",
    "\n",
    "- Newton, T. et Villarreal, O. (2014). *Learning D3.js mapping: build stunning maps and visualizations using D3.js.* Packt Publishing. ISBN 978-1-78398-560-9. [*Voir sur it-ebooks*](http://it-ebooks.info/book/4768/)\n",
    "\n",
    "\n",
    "- Thomas, S.A. (2015). *Data visualization with Javascript.* No Starch Press. ISBN 978-1-59327-605-8. [*Voir sur it-ebboks*](http://it-ebooks.info/book/6010/)  \n",
    "    *Ce livre traite entre autre Leaflet et Javascript dans la deuxième partie.*\n",
    "\n",
    "\n",
    "- Meeks, E. (2015). *D3.js in action.* Manning. ISBN 978-1-617-29211-8. [*Voir sur it-ebooks*](http://it-ebooks.info/book/6403/)\n",
    "\n",
    "\n",
    "Pour les tutoriels, voir sur le site de d3: [https://github.com/mbostock/d3/wiki/Tutorials](https://github.com/mbostock/d3/wiki/Tutorials).\n",
    "\n",
    "Il y a aussi un cours en ligne sur Udacity ([Data Visualization and D3.js](Communicating with Data)) qui s'inscrit dans leur cursus d'analyste de données.\n"
   ]
  },
  {
   "cell_type": "markdown",
   "metadata": {},
   "source": [
    "## 3. Quelques autres outils\n",
    "\n",
    "### 3.1 Cartographie interactive\n",
    "\n",
    "- [**Google Maps API**](https://developers.google.com/maps/)\n",
    "\n",
    "- [**OpenLayers**](http://openlayers.org/)\n",
    "\n",
    "- [**MapBox**](https://www.mapbox.com/)\n",
    "\n",
    "- [**HERE maps API**](https://developer.here.com/) (jusqu'à fin 2015 Nokia Maps, et avant encore Navteq, aujourd'hui propriété d'Audi, BMW et Daimler)\n",
    "\n",
    "- [**Bing maps API**](https://www.bingmapsportal.com)\n",
    "\n",
    "- <strike>[**Yahoo maps API**](https://developer.yahoo.com/maps/)</strike>. Intégré dans HERE.com (Nokia à l'époque).\n",
    "\n",
    "- [**Datamaps**](https://github.com/markmarkoh/datamaps). Cartes thématiques interactives sur la base de d3.\n",
    "\n",
    "\n",
    "### 3.2 Graphiques interactives\n",
    "\n",
    "- [**C3.js**](http://c3js.org/)\n",
    "\n",
    "- [**Chart.js**](http://chartjs.org)\n",
    "\n",
    "- [**D3plus**](http://d3plus.org/)\n",
    "\n",
    "- [**Dimple**](http://dimplejs.org)\n",
    "\n",
    "- [**Google Charts**](https://developers.google.com/chart/)\n",
    "\n",
    "- [**HighCharts**](http://www.highcharts.com/) avec [HighMaps](http://www.highcharts.com/products/highmaps)\n",
    "\n",
    "- [**Vega**](http://vega.github.io)\n",
    "\n",
    "- [**DataWrapper**](https://datawrapper.de/)\n",
    "\n"
   ]
  },
  {
   "cell_type": "markdown",
   "metadata": {},
   "source": [
    "## 4. Introduction au SVG\n",
    "\n",
    "Nous n'allons généralement pas écrire du SVG directement. Mais il est important de connaitre la syntaxe de base ainsi que les éléments les plus important, ainsi que les possibilités de style.\n",
    "\n",
    "Dans la pratique, nous pouvons utiliser un éditeur SVG (p.ex. Adobe Illustrator, Inkscape ou [Method Draw](http://editor.method.ac)), ou construire notre code SVG avec une librairie Javascript (p.ex. d3).\n",
    "\n",
    "SVG peut être un fichier à part avec une extension `.svg` ou peut être intégré à l'intérieur d'un document SVG. Nous allons écrire ici tout code SVG entre les balises `<svg>...</svg>` qui peuvent se trouver soit tout seul dans le fichier SVG ou à l'intérieur du corps du document HTML (à l'endroit où le graphique doit appraitre dans notre page).\n",
    "\n",
    "La taille d'un graphique SVG peut être fixée avec la hauteur et largeur en pixels:\n",
    "\n",
    "    <svg height=\"200\" width=\"200\">...</svg>\n",
    "\n",
    "Voici un graphique SVG simple, qui donne l'idée sur le principe:"
   ]
  },
  {
   "cell_type": "code",
   "execution_count": 17,
   "metadata": {
    "collapsed": false
   },
   "outputs": [
    {
     "data": {
      "text/html": [
       "<svg height=\"200\" width=\"200\">\n",
       "    <circle cx=\"100\" cy=\"120\" r=\"80\"/>\n",
       "    <circle cx=\"50\" cy=\"50\" r=\"50\" />\n",
       "    <circle cx=\"150\" cy=\"50\" r=\"50\" />\n",
       "    <circle cx=\"80\" cy=\"100\" r=\"10\" style=\"fill: #fff;\"/>\n",
       "    <circle cx=\"120\" cy=\"100\" r=\"10\" style=\"fill: #fff;\"/>\n",
       "</svg>"
      ],
      "text/plain": [
       "<IPython.core.display.HTML object>"
      ]
     },
     "metadata": {},
     "output_type": "display_data"
    }
   ],
   "source": [
    "%%html\n",
    "<svg height=\"200\" width=\"200\">\n",
    "    <circle cx=\"100\" cy=\"120\" r=\"80\"/>\n",
    "    <circle cx=\"50\" cy=\"50\" r=\"50\" />\n",
    "    <circle cx=\"150\" cy=\"50\" r=\"50\" />\n",
    "    <circle cx=\"80\" cy=\"100\" r=\"10\" style=\"fill: #fff;\"/>\n",
    "    <circle cx=\"120\" cy=\"100\" r=\"10\" style=\"fill: #fff;\"/>\n",
    "</svg>"
   ]
  },
  {
   "cell_type": "markdown",
   "metadata": {},
   "source": [
    "L'ordre des éléments, en l'occurrence des cercle est importante. Les éléments qui appraissent en bas seront dessinés par dessus (le processus de dessin commence logiquement en haut du document et se termine en bas, et du coup il se trouve que les éléments dessinés plus tard seront automatiquement en dessus).\n",
    "\n",
    "L'attribut `style` est le même que pour le HTML, sauf que le nom des types de styles sont différents (p.ex. au lieu de `background-color` en HTML il y a `fill` en SVG pour la couleur de remplissage).\n",
    "\n",
    "Le système de coordonnées a son origine en haut à gauche, avec l'axe des x allant de gauche à droite et l'axe des y du haut vers le bas (!):  \n",
    "![Système de coordonnées SVG](geovis-interactive/img/svg-coord-system.png)\n",
    "\n",
    "Voici les éléments SVG de base les plus importants (notez que la fermeture de l'élément doit se faire avec `/>` et non pas simplement avec `>` comme un peu faire parfois en HTML):\n",
    "\n",
    "- **Un cercle**: `<circle cx=\"50\" cy=\"30\" r=\"20\"/>` (`cx`: coordonnées x du centre, `r`: rayon)\n",
    "- **Une ellipse**: `<ellipse cx=\"50\" cx=\"30\" rx=\"40\" ry=\"20\"/>`\n",
    "- **Un rectangle**: `<rect x=\"50\" y=\"20\" width=\"200\" height=\"100\"/>`\n",
    "- **Une ligne**: `<line x1=\"50\" y1=\"30\" x2=\"80\" y2=\"30\" stroke-width=\"2\" stroke=\"#d33\"/>`\n",
    "- **Une texte**: `<text x=\"20\" y=\"50\" fill=\"#f66\" font-family=\"Helevetica\" font-size=\"12\">Hello SVG</text>`\n",
    "\n",
    "Notez que dans le SVG de base, il n'est pas possible de faire des blocs de texte avec des retours à la ligne automatiques. Une texte SVG sera toujours sur une ligne, s'il sort ou pas de l'illustration.\n",
    "\n",
    "\n",
    "Il est possible de faire des éléments plus complexes aussi, tel que les **polygones**, à l'aide de l'élément `path`:"
   ]
  },
  {
   "cell_type": "code",
   "execution_count": 19,
   "metadata": {
    "collapsed": false
   },
   "outputs": [
    {
     "data": {
      "text/html": [
       "<svg width=\"200\" height=\"100\">\n",
       "    <path d=\"M 50 10 L 150 10 L 140 90 L 60 90 z\"/>\n",
       "</svg>"
      ],
      "text/plain": [
       "<IPython.core.display.HTML object>"
      ]
     },
     "metadata": {},
     "output_type": "display_data"
    }
   ],
   "source": [
    "%%html\n",
    "<svg width=\"200\" height=\"100\">\n",
    "    <path d=\"M 50 10 L 150 10 L 140 90 L 60 90 z\"/>\n",
    "</svg>"
   ]
  },
  {
   "cell_type": "markdown",
   "metadata": {},
   "source": [
    "Les coordonnées sont données dans l'attribut `d` avec une syntaxe une peu étrange. C'est un peu comme si on doit instruire un robot super stupide de faire un dessin: les caractères sont des commandes, les chiffres les coordonnées (`x y`). Ainsi, on peut décortiquer les instructions ci-dessus comme suit:\n",
    "\n",
    "      M 50 10        Déplace (Move) ton crayon à la position 50/10 mais sans dessiner\n",
    "      L 150 10       Dessine une ligne droite jusqu'à la position 150/10\n",
    "      L 140 90       Dessine une ligne droite jusqu'à la position 140/90\n",
    "      L 60 90        Dessine une ligne droite jusqu'à la position 60/90\n",
    "      z              Dessine une ligne jusqu'au point de départ (50/10)\n",
    "\n",
    "Il y a bien d'autres commandes, pour par exemple dessiner des courbes au lieu de droites. Le [Mozilla Developer Network (MDN)](https://developer.mozilla.org) donne une excellente [introduction sur le SVG path](https://developer.mozilla.org/en-US/docs/Web/SVG/Tutorial/Paths). (la documentation sur [MDN](https://developer.mozilla.org) est à préférer sur celle sur [w3schools](http://w3schools.com) qui laisse parfois à désirer ou qui peut être carrément fausse, et qui n'a rien à avoir avec le [W3C](http://www.w3.org))."
   ]
  },
  {
   "cell_type": "markdown",
   "metadata": {},
   "source": [
    "SVG propose également un **élément pour regrouper un ensemble d'éléments**: `<g>` pour *group*. Ceci correspond à peu près à des couches. Les groupes SVG peuvent être imbriqués les uns dans les autres. Un groupe a aussi l'avantage d'appliquer des styles ou des transformations par défaut à l'ensemble des éléments du groupe.\n",
    "\n",
    "Les **styles** principaux sont:\n",
    "\n",
    "- **fill**: la couleur de remplissage (en hexadécimal comme `#ff0000` ou des noms comme `red`)\n",
    "- **stroke**: la couleur du contour\n",
    "- **stroke-width**: l'épaisseur du contour en pixels, décimales permises\n",
    "- **opacity**: l'opacité, avec valeur 0 (=complètement transparent) à 1\n",
    "- **font-size**: taille d'écriture en pixels\n",
    "- **font-family**: la police de caractères\n",
    "- **stroke-dasharray**: pour faire des lignes en traitillés (p.ex. `stroke-dasharray: 4,30`)\n",
    "\n",
    "Il est tout à fait possible d'utiliser du CSS, p.ex.:\n",
    "\n",
    "    rect {\n",
    "        stroke: white;\n",
    "        stroke-width: 3px;\n",
    "        fill: red;\n",
    "    }\n",
    "\n",
    "Les **transformations** permettent de modifier un élément, ou un groupe d'éléments:"
   ]
  },
  {
   "cell_type": "code",
   "execution_count": 37,
   "metadata": {
    "collapsed": false
   },
   "outputs": [
    {
     "data": {
      "text/html": [
       "<svg width=\"400\" height=\"200\">\n",
       "    <g transform=\"translate(100 10) rotate(30 0 0) \">\n",
       "        <rect x=\"0\" y=\"0\" width=\"200\" height=\"100\" style=\"fill: #933;\"/>\n",
       "        <text x=\"15\" y=\"60\" style=\"fill: white; font-size: 36;\">Hello SVG</text>\n",
       "    </g>\n",
       "</svg>"
      ],
      "text/plain": [
       "<IPython.core.display.HTML object>"
      ]
     },
     "metadata": {},
     "output_type": "display_data"
    }
   ],
   "source": [
    "%%html\n",
    "<svg width=\"400\" height=\"200\">\n",
    "    <g transform=\"translate(100 10) rotate(30 0 0) \">\n",
    "        <rect x=\"0\" y=\"0\" width=\"200\" height=\"100\" style=\"fill: #933;\"/>\n",
    "        <text x=\"15\" y=\"60\" style=\"fill: white; font-size: 36;\">Hello SVG</text>\n",
    "    </g>\n",
    "</svg>"
   ]
  },
  {
   "cell_type": "markdown",
   "metadata": {},
   "source": [
    "La translation est assez simple, il suffit de donner le nombre de pixels en x et y qui définissent le déplacement.\n",
    "\n",
    "La rotation prend trois valeurs: les degrés de la rotation suivi par les coordonnées du point de rotation.\n",
    "\n",
    "En plus, il est possible d'effectuer n'importe quelle [transformation affine](http://www.f-legrand.fr/scidoc/docimg/graphie/geometrie/affine/affine.html) à l'aide de la matrice de transformation ([voir aussi sur MDN](https://developer.mozilla.org/fr/docs/Web/SVG/Attribute/transform)):\n",
    "\n",
    "    \n",
    "$\\left( \\begin{array}{c} x' \\\\ y' \\\\ 1 \\end{array} \\right) =\n",
    "\\left( \\begin{array}{ccc}\n",
    "a & c & e \\\\\n",
    "b & d & f \\\\\n",
    "0 & 0 & 1 \\end{array} \\right) \\left( \\begin{array}{c} x \\\\ y \\\\ 1 \\end{array} \\right) $\n",
    "\n",
    "qui est representée de la manière suivante: `transform=\"matrix(a b c d e f)\"`, ce qui donne p.ex.:"
   ]
  },
  {
   "cell_type": "code",
   "execution_count": 44,
   "metadata": {
    "collapsed": false
   },
   "outputs": [
    {
     "data": {
      "text/html": [
       "<svg width=\"400\" height=\"200\">\n",
       "    <g transform=\"matrix(0.866 0.5 -0.5 0.866 100 10)\">\n",
       "        <rect x=\"0\" y=\"0\" width=\"200\" height=\"100\" style=\"fill: #933;\"/>\n",
       "        <text x=\"15\" y=\"60\" style=\"fill: white; font-size: 36;\">Hello SVG</text>\n",
       "    </g>\n",
       "</svg>"
      ],
      "text/plain": [
       "<IPython.core.display.HTML object>"
      ]
     },
     "metadata": {},
     "output_type": "display_data"
    }
   ],
   "source": [
    "%%html\n",
    "<svg width=\"400\" height=\"200\">\n",
    "    <g transform=\"matrix(0.866 0.5 -0.5 0.866 100 10)\">\n",
    "        <rect x=\"0\" y=\"0\" width=\"200\" height=\"100\" style=\"fill: #933;\"/>\n",
    "        <text x=\"15\" y=\"60\" style=\"fill: white; font-size: 36;\">Hello SVG</text>\n",
    "    </g>\n",
    "</svg>"
   ]
  },
  {
   "cell_type": "markdown",
   "metadata": {},
   "source": [
    "C'est la même transformation qu'avant. On reconnaît les valeurs si on sait que $\\sin(30) = 0.5$ et $\\cos(30) = 0.866$.  \n",
    "Et si tout n'est pas tout à fait clair avec les matrices de transformation affine, ce n'est pas très grave..."
   ]
  },
  {
   "cell_type": "markdown",
   "metadata": {},
   "source": [
    "## 5. Cartographie avec Datamaps\n",
    "\n",
    "[Datamaps](http://datamaps.github.io) est une librairie Javascript qui est construite par dessus d3, et qui permet de faire des cartes interactives simples.\n",
    "\n",
    "Une spécificité de Datamaps est le fait qu'il y a un certain nombre de géométries de pays et de sous-unités administratives déjà intégré dans la librairie, dont par exemple les cantons suisses.\n",
    "\n",
    "Un exemple d'utilisation est disponible dans le répértoire Github du cours:\n",
    "- [accès direct au code de l'exemple](https://github.com/christiankaiser/geovis2/tree/master/notebooks/geovis-interactive/exemples/datamaps/ch_votation_lat)\n",
    "- [résultat de l'exemple](https://rawgit.com/christiankaiser/geovis2/master/notebooks/geovis-interactive/exemples/datamaps/ch_votation_lat/index.html)\n",
    "\n",
    "Cette carte a été faite avec un fichier [TopoJSON](https://github.com/mbostock/topojson/wiki) qui contient les géométries des cantons suisses. Le format TopoJSON est une amélioration par rapport au format GeoJSON et remplit essentiellement le même rôle. Par contre, il s'agit d'un format topologique des géométries. Quelques explications:\n",
    "\n",
    "- Les fichiers Shape, tout comme les fichiers GeoJSON, permettent de représenter des points, lignes et polygones. Dans le cas où nous représentons des polygones adjacents, la frontière commune est représentée 2 fois, une fois dans chaque polygones. De fait, chaque polygone est une entité indépendante, et si on bouge juste un des polygones, il y a un trou et/ou superposition (c'est une problème topologique). Cette façon de représenter les géométries est parfois appelée le *format spaghetti*.\n",
    "\n",
    "- Le format topologique permet de représenter les limites entre polygones une seule fois. Le polygone n'est pas enregistré directement, mais construit à partir d'une série de lignes (les limites) qui sont enregistrées. Les principes du format topologique sont relativement anciennes. Dans les logiciels SIG comme Arc/Info 7 (ne pas confondre avec ArcInfo qui arrivait bien plus tard), ou [GRASS GIS](https://grass.osgeo.org), le format topologique était/est bien présent. Mais plus tard, il a été un peu perdu avec ArcGIS, QGIS etc. Dans PostGIS, on trouve le format topologique à nouveau, même s'il reste toujours peu utilisé.\n",
    "\n",
    "Le format topologique a par ailleurs plusieurs avantages:\n",
    "\n",
    "- Le fait de stocker qu'une fois les limites, la taille du fichier est diminué de presque la moitié. C'est une excellente nouvelle pour la cartographie Web, pour accélérer la transmission des données.\n",
    "\n",
    "- La généralisation à la volée des géométries est moins problématique. En effet, le problème avec la généralisation en *format spaghetti* est que les polygones adjacents sont généralisés séparément, et du coup il n'y a généralement plus d'adjacence... Et la généralisation permet de représenter un grand nombre d'unités géographiques beaucoup plus vite. C'est une excellente nouvelle pour la cartographie Web, pour accélerer la représentation des données.\n",
    "\n",
    "Bref, pour ces raisons, Mike Bostock (créateur de d3) a inventé le format TopoJSON qui permet d'améliorer les performances pour la cartographie interactives, notamment avec d3. Il a également écrit un logiciel pour traduire un fichier GeoJSON en fichier TopoJSON."
   ]
  },
  {
   "cell_type": "markdown",
   "metadata": {},
   "source": [
    "## 6. Visualisation avec c3.js\n",
    "\n",
    "[c3.js](http://c3js.org) est une libraire Javascript pour créer des graphiques interactifs. c3 utilise, comme le nom le laisse deviner, d3 pour générer les graphiques.\n",
    "\n",
    "Un exemple d'utilisation est disponible dans le répértoire Github du cours:\n",
    "- [accès direct au code de l'exemple](https://github.com/christiankaiser/geovis2/tree/master/notebooks/geovis-interactive/exemples/c3/evolpop)\n",
    "- [résultat de l'exemple](https://rawgit.com/christiankaiser/geovis2/master/notebooks/geovis-interactive/exemples/c3/evolpop/index.html)"
   ]
  },
  {
   "cell_type": "markdown",
   "metadata": {},
   "source": [
    "## 7. Introduction à d3\n",
    "\n",
    "- [Introduction à d3: première partie](http://nbviewer.jupyter.org/github/christiankaiser/geovis2/blob/master/notebooks/intro-d3-part1.ipynb)"
   ]
  },
  {
   "cell_type": "markdown",
   "metadata": {},
   "source": [
    "<!-- ## 6. Cartographie avec d3\n",
    "\n",
    "...\n",
    "\n",
    "### TopoJSON\n",
    "... -->"
   ]
  },
  {
   "cell_type": "markdown",
   "metadata": {},
   "source": [
    "<!-- footer -->"
   ]
  }
 ],
 "metadata": {
  "kernelspec": {
   "display_name": "Python 2",
   "language": "python",
   "name": "python2"
  },
  "language_info": {
   "codemirror_mode": {
    "name": "ipython",
    "version": 2
   },
   "file_extension": ".py",
   "mimetype": "text/x-python",
   "name": "python",
   "nbconvert_exporter": "python",
   "pygments_lexer": "ipython2",
   "version": "2.7.9"
  }
 },
 "nbformat": 4,
 "nbformat_minor": 0
}
