{
 "cells": [
  {
   "cell_type": "markdown",
   "metadata": {},
   "source": [
    "# Une application Web avec Flask\n",
    "\n",
    "Il y a de nombreuses façons de construire une application Web. La \"plus simple\" est de construire une application dite \"statique\". **Dans une application Web statique, le code de l'application (HTML, Javascript etc.) ne change pas en fonction du contenu.** Le terme statique se réfère donc au DOM resp. au code et non à l'expérience utilisateur; en effet, une application Web statique peut paraître très dynamique à l'écran, avec plein d'effets écrits en Javascript.\n",
    "\n",
    "Pour une application Web statique, il suffit d'avoir un serveur Web qui envoie les fichiers HTML, JS, CSS etc. tel quel sans modification. Par exemple le serveur lancé avec `python -m SimpleHTTPServer` est un serveur Web qui permet de le faire. Autre variante: déposer les fichiers sur Github et utiliser [Rawgit](http://rawgit.com) pour les envoyer sous forme de fichiers d'un site Web."
   ]
  },
  {
   "cell_type": "markdown",
   "metadata": {},
   "source": [
    "**Une application Web dynamique fait tourner un code du côté du serveur pour produire un contenu adapté.** C'est-à-dire le contenu des fichiers HTML, JS etc. n'est pas le même en fonction de l'utilisateur ou de la demande. Plusieurs opérations entrent dans cette catégorie d'application:\n",
    "\n",
    "- faire un login sur un site Web\n",
    "- envoyer des données sur un serveur et les enregistrer dans une base de données pour les récupérer plus tard\n",
    "- une recherche dans des documents déposées dans une base de données\n",
    "- ...\n",
    "\n",
    "Une application Web dynamique nécessite donc d'exécuter du code du côté du serveur, et donc avant cela, d'écrire ce code... Nous avons donc la possibilité d'exécuter du code du côté du client et du côté du serveur. Cependant, du côté du client (donc le navigateur Web), nous sommes limités à l'utilisation de Javascript. Du côté du serveur, il y a beaucoup plus de possibilités. Ainsi, il est par exemple possible d'utiliser des langages tel que le Java, Python, PHP, Ruby et aussi du Javascript.\n",
    "\n",
    "En principe, on utilise toujours un ***framework Web*** pour créer une application Web dynamique. Seule exception à cela est peut-être PHP qu'il est possible d'utiliser sans framework Web, même si ceci est généralement une mauvaise pratique.\n",
    "\n",
    "Le framework Web s'occupe typiquement des tâches les plus basiques, comme par exemple de lier l'URL de l'application à une fonction particulière de notre code. Chaque framework Web est écrit dans un langage spécifique et présente ses avantages et inconvénients. Voici les noms de quelques framework (ce n'est pas grave si vous n'en avez jamais entendu parler):\n",
    "\n",
    "- [**Ruby on Rails**](http://rubyonrails.org) (RoR): le framework est Rails, tandis que le langage est Ruby, qui est un langage un peu passe-partout comme Python. RoR est très populaire et certainement un des meilleurs frameworks Web qui existent.\n",
    "\n",
    "- [**Django**](http://djangoproject.com): framework sur la base de Python. Très populaire aussi.\n",
    "\n",
    "- [**Flask**](http://flask.pocoo.org) est un autre framework sur la base de Python. Il est très modulaire et flexible.\n",
    "\n",
    "- [**Symfony**](http://symfony.com) est un des framework PHP les plus populaires, tout comme [**Zend framework**](http://framework.zend.com).\n",
    "\n",
    "- [**Play framework**](https://playframework.com) est un des derniers framework Web pour Java et pour Scala qui est un autre langage pour la machine virtuelle Java.\n",
    "\n",
    "- [**Node.js**](http://nodejs.org) est un environnement qui permet de faire tourner efficacement des programmes Javascript sur un serveur. [**Express**](http://expressjs.com) est un framework Web sur la base de Node.js, tout comme [**Meteor**](http://meteor.com) qui est déstiné principalement aux applications en temps réel mais qui se prête aussi très bien pour faire des applications Web et mobiles très puissantes, et il est relativement facile à apprendre et bien documenté.\n",
    "\n",
    "Nous allons regarder ici **Flask**, pour les raisons suivantes:\n",
    "\n",
    "- Flask tourne en Python, ce qui permet d'utiliser tous les outils notamment pour le traitement et analyse de données déjà disponibles dans ce langages.\n",
    "\n",
    "- Flask est très simple pour commencer. En fait, nous pouvons écrire une application Web avec une dizaine de lignes de code déjà...\n",
    "\n",
    "- Flask est un framework moderne qui fait attention notamment aux problèmes potentiels de sécurité.\n",
    "\n",
    "- On peut faire tourner une application Flask sur de nombreux serveurs Web. Ainsi, il est possible de l'intégrer dans un serveur Web Apache, ou encore d'héberger l'application sur [Heroku](http://heroku.com) ou [Google App Engine](https://cloud.google.com/appengine/).\n",
    "\n",
    "Par contre, Flask est très modulaire et il peut être difficile de voir à travers tous les modules, de voir comment structurer au mieux une application etc. Pour celui qui veut construire une application un peu plus conséquente, il est probablement plus facile de commencer avec [**Django**](http://djangoproject.com) ou pour les adeptes de Javascript [**Meteor**](https://www.meteor.com) qui proposent des framework Web très complets déjà à la base. Et on sera toujours ravi de l'interface admin Django."
   ]
  },
  {
   "cell_type": "markdown",
   "metadata": {},
   "source": [
    "## Une application d'analyse spatiale...\n",
    "\n",
    "Nous allons construire une petite application Web qui fait les choses suivantes:\n",
    "\n",
    "1. Lire un fichier de données (un fichier CSV sur les cantons suisses)\n",
    "2. Charger les données à l'aide de JSON\n",
    "3. Effectuer une ACP et un clustering par k-means\n",
    "4. Afficher le résultat sous forme de graphique interactif\n",
    "\n",
    "L'application complète est disponible dans le dossier [spatial-analysis-app](https://github.com/christiankaiser/geovis2/tree/master/exercices/application-web-flask/spatial-analysis-app). Les différentes étapes sont dans les dossiers `spatial-analysis-app-v...`"
   ]
  },
  {
   "cell_type": "markdown",
   "metadata": {},
   "source": [
    "### A. Une application Flask extrêment simple\n",
    "\n",
    "La première chose à faire est d'installer Flask. Flask est un module Python ordinaire et peut être installé typiquement avec `pip install flask`.\n",
    "\n",
    "Dans sa version la plus simple, une application Flask peut être un seul fichier Python, dans lequel nous devons faire les choses suivantes:\n",
    "\n",
    "1. Importer le module Flask\n",
    "2. Créer une instance d'une application\n",
    "3. Créer au moins une fonction pour gérer les URLs accessibles (typiquement l'URL de base `/`, et potentiellement d'autres, plus complexes).\n",
    "4. Faire tourner l'application\n",
    "\n",
    "Le tout peut être fait dans un seul fichier Python (que nous appelons `app.py`, mais il pourrait s'appeler n'importe comment) comme suit:\n",
    "\n",
    "    import flask\n",
    "\n",
    "    app = flask.Flask(__name__)\n",
    "    app.debug = True\n",
    "\n",
    "    @app.route('/')\n",
    "    def index():\n",
    "        return 'Bonjour!'\n",
    "\n",
    "    if __name__ == '__main__':\n",
    "        app.run()\n",
    "\n",
    "Et puis nous pouvons faire tourner l'application dans le Terminal:\n",
    "\n",
    "1. `cd` dans le dossier de l'application\n",
    "2. `python app.py` pour lancer le tout\n",
    "3. Nous rendre à l'URL [http://localhost:5000](http://localhost:5000) pour voir le résultat (identique à [http://127.0.0.1:5000](http://127.0.0.1:5000)).\n",
    "\n",
    "Analysons ce que fait l'application:\n",
    "\n",
    "- `import flask` importe le module Flask\n",
    "- `app = flask.Flask(__name__)` crée une application Flask avec comme nom le contenu de la variable `__name__`. Cette variable est définie automatiquement par Python et contient le contexte du script (par défaut `main`, mais ceci peut être différent si on importait notre application comme un module quelque part ailleurs).\n",
    "- `app.debug = True` active le mode de *débugage* et affichera des informations utiles supplémentaires en cas d'une erreur (et il y en aura!)\n",
    "- `app.route('/')` lie l'URL de base `/` à la fonction `index` qui suit juste apprès (la fonction peut s'appeler n'importe comment). Cette fonction retourne, sous forme de chaîne de caractères, ce qui sera affiché dans le navigateur Web en consultant l'URL associée. Ceci peut être du code HTML, des données représentées en format JSON, ou comme ici simplement du texte.\n",
    "- `app.run()` permet de lancer l'application. La condition un peu bizarre `if __name__ == '__main__':` fait que l'application tournera uniquement si le fichier est exécuté comme fichier principal et non importé comme module Python dans un autre programme.\n",
    "\n",
    "Cette application est disponible dans le dossier [spatial-analysis-app-v1](https://github.com/christiankaiser/geovis2/tree/master/exercices/application-web-flask/spatial-analysis-app-v1). Essayez de faire tourner cette application sur votre machine!"
   ]
  },
  {
   "cell_type": "markdown",
   "metadata": {},
   "source": [
    "    "
   ]
  },
  {
   "cell_type": "markdown",
   "metadata": {},
   "source": [
    "<!-- fin -->"
   ]
  }
 ],
 "metadata": {
  "kernelspec": {
   "display_name": "Python 2",
   "language": "python",
   "name": "python2"
  },
  "language_info": {
   "codemirror_mode": {
    "name": "ipython",
    "version": 2
   },
   "file_extension": ".py",
   "mimetype": "text/x-python",
   "name": "python",
   "nbconvert_exporter": "python",
   "pygments_lexer": "ipython2",
   "version": "2.7.9"
  }
 },
 "nbformat": 4,
 "nbformat_minor": 0
}
